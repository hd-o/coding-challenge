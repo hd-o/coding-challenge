{
 "cells": [
  {
   "cell_type": "markdown",
   "metadata": {},
   "source": [
    "# 🛒 Cart Discounts"
   ]
  },
  {
   "cell_type": "markdown",
   "metadata": {},
   "source": [
    "## Challenge"
   ]
  },
  {
   "cell_type": "markdown",
   "metadata": {},
   "source": [
    "### Given the following product prices:"
   ]
  },
  {
   "cell_type": "code",
   "execution_count": 22,
   "metadata": {},
   "outputs": [],
   "source": [
    "prices = {\"apple\": 100, \"grapeBag\": 450, \"peach\": 90}"
   ]
  },
  {
   "cell_type": "markdown",
   "metadata": {},
   "source": [
    "### With the following discount rules:\n",
    "\n",
    "- Apple: Buy at least two, and get 20% off\n",
    "- GrapeBag: Buy one, and get one free\n",
    "- Peach: No discount"
   ]
  },
  {
   "cell_type": "markdown",
   "metadata": {},
   "source": [
    "### Calculate the total price for the following carts:"
   ]
  },
  {
   "cell_type": "code",
   "execution_count": 23,
   "metadata": {},
   "outputs": [],
   "source": [
    "carts = [\n",
    "  {\"apple\": 0, \"grapeBag\": 0, \"peach\": 0}, # 0\n",
    "  {\"apple\": 1, \"grapeBag\": 1, \"peach\": 1}, # 640\n",
    "  {\"apple\": 2, \"grapeBag\": 2, \"peach\": 1}, # 700\n",
    "  {\"apple\": 2, \"grapeBag\": 2, \"peach\": 2}, # 790\n",
    "  {\"apple\": 5, \"grapeBag\": 7, \"peach\": 7}, # 2380\n",
    "]"
   ]
  },
  {
   "cell_type": "markdown",
   "metadata": {},
   "source": [
    "### The expected totals are:"
   ]
  },
  {
   "cell_type": "code",
   "execution_count": 24,
   "metadata": {},
   "outputs": [],
   "source": [
    "expected_totals = [0, 640, 700, 790, 2380]"
   ]
  },
  {
   "cell_type": "markdown",
   "metadata": {},
   "source": [
    "## Solution"
   ]
  },
  {
   "cell_type": "code",
   "execution_count": 25,
   "metadata": {},
   "outputs": [],
   "source": [
    "Price = int\n",
    "Quantity = int\n",
    "Product = str\n",
    "Prices = dict[Product, Price]\n",
    "Cart = dict[Product, Quantity]\n",
    "\n",
    "def calculate_total(prices: Prices, cart: Cart) -> Price:\n",
    "    \"\"\"Calculate total cart price with discounts applied for each product\"\"\"\n",
    "    total = 0\n",
    "    for product, quantity in cart.items():\n",
    "        if product == \"apple\":\n",
    "            apple_total = quantity * prices[\"apple\"]\n",
    "            # Buy 2 or more, get 20% off\n",
    "            if quantity > 1:\n",
    "                apple_total -= apple_total * 0.2\n",
    "            total += apple_total\n",
    "        if product == \"grapeBag\":\n",
    "            if quantity < 2:\n",
    "                total += quantity * prices[\"grapeBag\"]\n",
    "            else:\n",
    "                # Buy one, get one free\n",
    "                # if quantity is even, divide by 2\n",
    "                # else subtract one, then divide by 2\n",
    "                calc_quantity = quantity if quantity % 2 == 0 else quantity - 1\n",
    "                total += prices[\"grapeBag\"] * (calc_quantity / 2)\n",
    "        if product == \"peach\":\n",
    "            # No discounts\n",
    "            total += quantity * prices[\"peach\"]\n",
    "    return int(total)"
   ]
  },
  {
   "cell_type": "markdown",
   "metadata": {},
   "source": [
    "## Test"
   ]
  },
  {
   "cell_type": "code",
   "execution_count": 26,
   "metadata": {},
   "outputs": [
    {
     "name": "stdout",
     "output_type": "stream",
     "text": [
      "🟢 Passed\n",
      "calculated_totals:  [0, 640, 700, 790, 2380]\n",
      "expected_totals:  [0, 640, 700, 790, 2380]\n"
     ]
    }
   ],
   "source": [
    "calculated_totals = [calculate_total(prices, cart) for cart in carts]\n",
    "print(\"🟢 Passed\" if calculated_totals == expected_totals else \"🔴 Failed\")\n",
    "print(\"calculated_totals: \", calculated_totals)\n",
    "print(\"expected_totals: \", expected_totals)"
   ]
  },
  {
   "cell_type": "markdown",
   "metadata": {},
   "source": [
    "## Scaling a Shopping Cart\n",
    "\n",
    "The following are my current ideas related to scaling a shopping cart architecture.\n",
    "\n",
    "### Scenario\n",
    "\n",
    "1. A store with thousands of items\n",
    "2. Discounts applied based on multiple rules\n",
    "\n",
    "### Requirement\n",
    "\n",
    "1. System architecture handling dynamic product lists  \n",
    "2. Solution allowing discount updates by non-engineers \n",
    "    - Marketing department could insert a promotion\n",
    "\n",
    "### Solution\n",
    "\n",
    "A product's final price can be influenced by several factors: Discount based on product quantity, discount based on a brand's products quantity, coupons, loyalty plans, premium plans, e.t.c. On all purchases, two value types are certain, the product ids, and their quantities. With this data, transformations can be applied to calculate the final cart price. My current solution is to have \"price rules\" defining the calculation for a product price, and discounts if any. Example:"
   ]
  },
  {
   "cell_type": "code",
   "execution_count": 27,
   "metadata": {},
   "outputs": [],
   "source": [
    "from typing import Literal\n",
    "\n",
    "# DB Table price_rule\n",
    "class PriceRule:\n",
    "    # Unique rule key\n",
    "    # Used for data joins, and UI copy/text\n",
    "    id: str\n",
    "    # Used by ShoppingCart to know which price\n",
    "    # rules should be fetched/loaded\n",
    "    product_id: str\n",
    "    # Used by ShoppingCart to know how a product's\n",
    "    # price is calculated, and inform the customer\n",
    "    type: Literal[\"price\", \"discount\", \"coupon\"]"
   ]
  },
  {
   "cell_type": "markdown",
   "metadata": {},
   "source": [
    "For each price rule there is a function which will calculate product price. This function can be saved in a database, or in storage like AWS S3."
   ]
  },
  {
   "cell_type": "code",
   "execution_count": 28,
   "metadata": {},
   "outputs": [],
   "source": [
    "# Price rule function examples\n",
    "\n",
    "from typing import Optional\n",
    "\n",
    "# Example shopping cart class\n",
    "class ShoppingCart: pass\n",
    "\n",
    "# Example file name format: \"rule_{price_rule.id}.py\"\n",
    "\n",
    "# rule_001.py\n",
    "def price(cart: ShoppingCart) -> Price: pass\n",
    "\n",
    "# rule_002.py\n",
    "def discount(cart: ShoppingCart) -> Optional[Price]: pass\n",
    "\n",
    "# rule_003.py\n",
    "def coupon(cart: ShoppingCart) -> Optional[Price]: pass"
   ]
  },
  {
   "cell_type": "markdown",
   "metadata": {},
   "source": [
    "The class `ShoppingCart` could fetch the price rules for each selected product, and run the defined functions, receiving a list of prices, and knowing the type of the rule  (price, discount, coupon, e.t.c). This resulting data can be used to render UI copy/text, and inform the user on prices, and applied discounts. Some rules can return an `Optional` type, where the rule might not be applied, e.g: expired coupons, or a product quantity not enough for the discount, e.t.c.\n"
   ]
  }
 ],
 "metadata": {
  "interpreter": {
   "hash": "ee76ac8d573843beabc69ff1ef91363d80168366ae9749f0f1aa440f8cc6b8dc"
  },
  "kernelspec": {
   "display_name": "Python 3.9.6 64-bit ('3.9.6': pyenv)",
   "name": "python3"
  },
  "language_info": {
   "codemirror_mode": {
    "name": "ipython",
    "version": 3
   },
   "file_extension": ".py",
   "mimetype": "text/x-python",
   "name": "python",
   "nbconvert_exporter": "python",
   "pygments_lexer": "ipython3",
   "version": "3.9.6"
  },
  "orig_nbformat": 4
 },
 "nbformat": 4,
 "nbformat_minor": 2
}
