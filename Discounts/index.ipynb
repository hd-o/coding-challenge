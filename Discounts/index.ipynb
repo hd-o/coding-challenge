{
 "cells": [
  {
   "cell_type": "markdown",
   "source": [
    "# Shopping Cart Discounts"
   ],
   "metadata": {}
  },
  {
   "cell_type": "markdown",
   "source": [
    "### Given the following product prices:"
   ],
   "metadata": {}
  },
  {
   "cell_type": "code",
   "execution_count": 12,
   "source": [
    "prices = {\"apple\": 100, \"grapeBag\": 450, \"peach\": 90}"
   ],
   "outputs": [],
   "metadata": {}
  },
  {
   "cell_type": "markdown",
   "source": [
    "### With the following discount rules:\n",
    "\n",
    "- Apple: Buy at least two, and get 20% off\n",
    "- GrapeBag: Buy one, and get one free\n",
    "- Peach: No discount"
   ],
   "metadata": {}
  },
  {
   "cell_type": "markdown",
   "source": [
    "### Calculate the total price for the following carts:"
   ],
   "metadata": {}
  },
  {
   "cell_type": "code",
   "execution_count": 13,
   "source": [
    "carts = [\n",
    "  {\"apple\": 0, \"grapeBag\": 0, \"peach\": 0}, # 0\n",
    "  {\"apple\": 1, \"grapeBag\": 1, \"peach\": 1}, # 640\n",
    "  {\"apple\": 2, \"grapeBag\": 2, \"peach\": 1}, # 700\n",
    "  {\"apple\": 2, \"grapeBag\": 2, \"peach\": 2}, # 790\n",
    "  {\"apple\": 5, \"grapeBag\": 7, \"peach\": 7}, # 2380\n",
    "]"
   ],
   "outputs": [],
   "metadata": {}
  },
  {
   "cell_type": "markdown",
   "source": [
    "### The expected totals are:"
   ],
   "metadata": {}
  },
  {
   "cell_type": "code",
   "execution_count": 19,
   "source": [
    "expected_totals = [0, 640, 700, 790, 2380]"
   ],
   "outputs": [],
   "metadata": {}
  },
  {
   "cell_type": "markdown",
   "source": [
    "## Solution"
   ],
   "metadata": {}
  },
  {
   "cell_type": "code",
   "execution_count": 20,
   "source": [
    "Price = int\n",
    "Quantity = int\n",
    "Product = str\n",
    "Prices = dict[Product, Price]\n",
    "Cart = dict[Product, Quantity]\n",
    "\n",
    "def calculate_total(prices: Prices, cart: Cart) -> Price:\n",
    "    \"\"\"Calculate total cart price with discounts applied for each product\"\"\"\n",
    "    total = 0\n",
    "    for product, quantity in cart.items():\n",
    "        if product == \"apple\":\n",
    "            apple_total = quantity * prices[\"apple\"]\n",
    "            # Buy 2 or more, get 20% off\n",
    "            if quantity > 1:\n",
    "                apple_total -= apple_total * 0.2\n",
    "            total += apple_total\n",
    "        if product == \"grapeBag\":\n",
    "            if quantity < 2:\n",
    "                total += quantity * prices[\"grapeBag\"]\n",
    "            else:\n",
    "                # Buy one, get one free\n",
    "                # if quantity is even, divide by 2\n",
    "                # else subtract one, then divide by 2\n",
    "                calc_quantity = quantity if quantity % 2 == 0 else quantity - 1\n",
    "                total += prices[\"grapeBag\"] * (calc_quantity / 2)\n",
    "        if product == \"peach\":\n",
    "            # No discounts\n",
    "            total += quantity * prices[\"peach\"]\n",
    "    return int(total)"
   ],
   "outputs": [],
   "metadata": {}
  },
  {
   "cell_type": "markdown",
   "source": [
    "## Test"
   ],
   "metadata": {}
  },
  {
   "cell_type": "code",
   "execution_count": 21,
   "source": [
    "calculated_totals = [calculate_total(prices, cart) for cart in carts]\n",
    "print(\"🟢 Passed\" if calculated_totals == expected_totals else \"🔴 Failed\")\n",
    "print(\"calculated_totals: \", calculated_totals)\n",
    "print(\"expected_totals: \", expected_totals)"
   ],
   "outputs": [
    {
     "output_type": "stream",
     "name": "stdout",
     "text": [
      "🟢 Passed\n",
      "calculated_totals:  [0, 640, 700, 790, 2380]\n",
      "expected_totals:  [0, 640, 700, 790, 2380]\n"
     ]
    }
   ],
   "metadata": {}
  },
  {
   "cell_type": "markdown",
   "source": [
    "## Scaling a Shopping Cart\n",
    "\n",
    "The following are my current ideas related to scaling a shopping cart architecture.\n",
    "\n",
    "### Scenario\n",
    "\n",
    "1. A store with thousands of items\n",
    "2. Discounts applied based on multiple rules\n",
    "\n",
    "### Requirement\n",
    "\n",
    "1. System architecture handling dynamic product lists  \n",
    "2. Solution allowing discount updates by non-engineers \n",
    "    - Marketing department could insert a promotion\n",
    "\n",
    "### Solution\n",
    "\n",
    "A product's final price can be influenced by several factors: Discount based on product quantity, discount based on a brand's products quantity, coupons, loyalty plans, premium plans, e.t.c. On all purchases, two value types are certain, the product ids, and their quantities. With this data, transformations can be applied to calculate the final cart price. My current solution is to have \"price rules\" defining the calculation for a product price, and discounts if any. Example:"
   ],
   "metadata": {}
  },
  {
   "cell_type": "code",
   "execution_count": 24,
   "source": [
    "# price_rule:\n",
    "#  id: unique_key\n",
    "#  product_id: unique_key(table: product)\n",
    "#  type: \"price\" | \"discount\" | \"coupon\""
   ],
   "outputs": [],
   "metadata": {}
  },
  {
   "cell_type": "markdown",
   "source": [
    "For each price rule there is a function which will calculate product price. This function can be saved in a database, or in storage like AWS S3."
   ],
   "metadata": {}
  },
  {
   "cell_type": "code",
   "execution_count": 28,
   "source": [
    "# Price rule function examples\n",
    "\n",
    "from typing import Optional\n",
    "\n",
    "# Example shopping cart class\n",
    "class ShoppingCart: pass\n",
    "\n",
    "# Example file name format: \"rule_{price_rule.id}.py\"\n",
    "\n",
    "# rule_001.py\n",
    "def price(cart: ShoppingCart) -> Price: pass\n",
    "\n",
    "# rule_002.py\n",
    "def discount(cart: ShoppingCart) -> Optional[Price]: pass\n",
    "\n",
    "# rule_003.py\n",
    "def coupon(cart: ShoppingCart) -> Optional[Price]: pass"
   ],
   "outputs": [],
   "metadata": {}
  },
  {
   "cell_type": "markdown",
   "source": [
    "The class `ShoppingCart` could fetch the price rules for each selected product, and run the defined functions, receiving a list of prices, and knowing the type of the rule  (price, discount, coupon, e.t.c). This resulting data can be used to render UI copy/text, and inform the user on prices, and applied discounts. Some rules can return an `Optional` type, where the rule might not be applied, e.g: expired coupons, or a product quantity not enough for the discount, e.t.c.\n",
    "\n",
    "## Further Research\n",
    "\n",
    "> TODO\n"
   ],
   "metadata": {}
  }
 ],
 "metadata": {
  "orig_nbformat": 4,
  "language_info": {
   "name": "python",
   "version": "3.9.6",
   "mimetype": "text/x-python",
   "codemirror_mode": {
    "name": "ipython",
    "version": 3
   },
   "pygments_lexer": "ipython3",
   "nbconvert_exporter": "python",
   "file_extension": ".py"
  },
  "kernelspec": {
   "name": "python3",
   "display_name": "Python 3.9.6 64-bit ('3.9.6': pyenv)"
  },
  "interpreter": {
   "hash": "ee76ac8d573843beabc69ff1ef91363d80168366ae9749f0f1aa440f8cc6b8dc"
  }
 },
 "nbformat": 4,
 "nbformat_minor": 2
}